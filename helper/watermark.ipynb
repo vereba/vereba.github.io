{
 "cells": [
  {
   "cell_type": "code",
   "execution_count": 13,
   "metadata": {},
   "outputs": [
    {
     "name": "stdout",
     "output_type": "stream",
     "text": [
      "The autoreload extension is already loaded. To reload it, use:\n",
      "  %reload_ext autoreload\n"
     ]
    }
   ],
   "source": [
    "%load_ext autoreload\n",
    "%autoreload 2\n",
    "\n",
    "import image_preparation as prep"
   ]
  },
  {
   "cell_type": "code",
   "execution_count": 15,
   "metadata": {},
   "outputs": [],
   "source": [
    "watermark_path = './../src/images/logo/watermark.png'\n",
    "black_watermark_path = './../src/images/logo/watermark_black.png'\n",
    "\n",
    "# all images\n",
    "# source_dir = './../src/assets/artwork/images'\n",
    "source_dir = \"./../to_convert\"\n",
    "# watermark target dir\n",
    "watermark_dir = \"./../converted\" # './../src/assets/artwork/images_watermarked'\n",
    "\n",
    "low_res_dir = './../converted/images_low_res'"
   ]
  },
  {
   "cell_type": "code",
   "execution_count": 16,
   "metadata": {},
   "outputs": [],
   "source": [
    "watermark_width=150\n",
    "position = 'bottom_right'  # Available positions: 'top_left', 'top_right', 'bottom_left', 'bottom_right', 'center'\n",
    "opacity = 0.4\n",
    "padding=25\n",
    "result_img_max_width=800\n",
    "ext = ['png', 'jpg', \"jpeg\"]\n",
    "low_res_max_width = 400\n",
    "suffix = None\n",
    "overwrite=False\n",
    "\n",
    "position_black = 'center'  # Available positions: 'top_left', 'top_right', 'bottom_left', 'bottom_right', 'center'\n",
    "opacity_black = 0.3\n",
    "watermark_width_black = 300"
   ]
  },
  {
   "cell_type": "code",
   "execution_count": 17,
   "metadata": {},
   "outputs": [
    {
     "name": "stdout",
     "output_type": "stream",
     "text": [
      "Scaling image ./../converted/images_low_res\\calles_de_antigua.jpeg\n",
      "Processing: ./../to_convert\\calles_de_antigua.jpeg\n",
      "- Scaling image with size: (2695, 3656)\n",
      "- Removing alpha channel\n",
      "Processed image saved to './../converted/images_low_res\\calles_de_antigua.jpeg'\n",
      "--------------------------------------------------\n",
      "Scaling image ./../converted/images_low_res\\grossstadtjungle.jpeg\n",
      "Processing: ./../to_convert\\grossstadtjungle.jpeg\n",
      "- Scaling image with size: (2689, 3883)\n",
      "- Removing alpha channel\n",
      "Processed image saved to './../converted/images_low_res\\grossstadtjungle.jpeg'\n",
      "--------------------------------------------------\n",
      "Scaling image ./../converted/images_low_res\\modern_wild_west.jpg\n",
      "Processing: ./../to_convert\\modern_wild_west.jpg\n",
      "- Scaling image with size: (4673, 3284)\n",
      "- Removing alpha channel\n",
      "Processed image saved to './../converted/images_low_res\\modern_wild_west.jpg'\n",
      "--------------------------------------------------\n",
      "Scaling image ./../converted/images_low_res\\sightseeing.jpg\n",
      "Processing: ./../to_convert\\sightseeing.jpg\n",
      "- Scaling image with size: (2712, 2712)\n",
      "- Removing alpha channel\n",
      "Processed image saved to './../converted/images_low_res\\sightseeing.jpg'\n",
      "--------------------------------------------------\n"
     ]
    }
   ],
   "source": [
    "# scale image\n",
    "prep.scale_images_in_dir(source_dir, low_res_dir, low_res_max_width, suffix, True)"
   ]
  },
  {
   "cell_type": "code",
   "execution_count": 18,
   "metadata": {},
   "outputs": [
    {
     "name": "stdout",
     "output_type": "stream",
     "text": [
      "Loading Watermark from path './../src/images/logo/watermark.png'\n",
      "Rescaling watermark to width: 150\n",
      "Loading images from './../to_convert' with extensions: ['png', 'jpg', 'jpeg']\n",
      "Saving them to './../converted'\n",
      "Processing: ./../to_convert\\calles_de_antigua.jpeg\n",
      "- Changing watermark opacity to 0.4\n",
      "- Scaling image with size: (2695, 3656)\n",
      "- Removing alpha channel\n",
      "Processed image saved to './../converted\\calles_de_antigua.jpeg'\n",
      "--------------------------------------------------\n",
      "Processing: ./../to_convert\\grossstadtjungle.jpeg\n",
      "- Changing watermark opacity to 0.4\n",
      "- Scaling image with size: (2689, 3883)\n",
      "- Removing alpha channel\n",
      "Processed image saved to './../converted\\grossstadtjungle.jpeg'\n",
      "--------------------------------------------------\n",
      "Processing: ./../to_convert\\modern_wild_west.jpg\n",
      "- Changing watermark opacity to 0.4\n",
      "- Scaling image with size: (4673, 3284)\n",
      "- Removing alpha channel\n",
      "Processed image saved to './../converted\\modern_wild_west.jpg'\n",
      "--------------------------------------------------\n",
      "Processing: ./../to_convert\\sightseeing.jpg\n",
      "- Changing watermark opacity to 0.4\n",
      "- Scaling image with size: (2712, 2712)\n",
      "- Removing alpha channel\n",
      "Processed image saved to './../converted\\sightseeing.jpg'\n",
      "--------------------------------------------------\n"
     ]
    }
   ],
   "source": [
    "prep.watermark_images(source_dir, \n",
    "        watermark_dir, \n",
    "        watermark_path, \n",
    "        watermark_width=watermark_width,\n",
    "        padding=padding,\n",
    "        position = position,  # Available positions: 'top_left', 'top_right', 'bottom_left', 'bottom_right', 'center'\n",
    "        opacity = opacity,\n",
    "        result_img_max_width=result_img_max_width,\n",
    "        ext = ext,\n",
    "        suffix=suffix,\n",
    "        overwrite=overwrite)\n"
   ]
  },
  {
   "cell_type": "code",
   "execution_count": 10,
   "metadata": {},
   "outputs": [
    {
     "name": "stdout",
     "output_type": "stream",
     "text": [
      "Loading Watermark from path './../src/images/logo/watermark_black.png'\n",
      "Rescaling watermark to width: 300\n",
      "Loading images from './../src/assets/artwork/images/sketches' with extensions: ['png', 'jpg', 'jpeg']\n",
      "Saving them to './../src/assets/artwork/images_watermarked/sketches'\n"
     ]
    }
   ],
   "source": [
    "## for sketches, use black watermark\n",
    "# all images\n",
    "sketches_source_dir = './../src/assets/artwork/images/sketches'\n",
    "# watermark target dir\n",
    "sketches_watermark_dir = './../src/assets/artwork/images_watermarked/sketches'\n",
    "\n",
    "prep.watermark_images(sketches_source_dir, \n",
    "        sketches_watermark_dir, \n",
    "        black_watermark_path, \n",
    "        watermark_width=watermark_width_black,\n",
    "        padding=padding,\n",
    "        position = position,  # Available positions: 'top_left', 'top_right', 'bottom_left', 'bottom_right', 'center'\n",
    "        opacity = opacity,\n",
    "        result_img_max_width=result_img_max_width,\n",
    "        ext = ext,\n",
    "        suffix=suffix,\n",
    "        overwrite=overwrite)\n"
   ]
  },
  {
   "cell_type": "code",
   "execution_count": 83,
   "metadata": {},
   "outputs": [],
   "source": [
    "# verify all markdown files have image\n",
    "\n",
    "markdown_folder = './../src/assets/artwork/mdfiles'  # Replace this with the actual folder path\n",
    "prep.check_images_exist(markdown_folder)"
   ]
  },
  {
   "cell_type": "markdown",
   "metadata": {},
   "source": [
    "# Other stuff"
   ]
  },
  {
   "cell_type": "code",
   "execution_count": 4,
   "metadata": {},
   "outputs": [
    {
     "name": "stdout",
     "output_type": "stream",
     "text": [
      "Image saved to output.png\n"
     ]
    }
   ],
   "source": [
    "from PIL import Image\n",
    "# change watermark color\n",
    "\n",
    "def replace_white_with_gray(input_path, output_path):\n",
    "    # Load the input PNG image\n",
    "    try:\n",
    "        img = Image.open(input_path)\n",
    "    except IOError:\n",
    "        print(f\"Error: Could not open the image at {input_path}\")\n",
    "        return\n",
    "\n",
    "    # Convert the image to RGBA mode to handle transparency (if any)\n",
    "    img = img.convert(\"RGBA\")\n",
    "\n",
    "    # Get the image dimensions\n",
    "    width, height = img.size\n",
    "\n",
    "    # Define the color for the gray pixels (e.g., RGB value of (128, 128, 128))\n",
    "    gray_color = (0, 0, 0, 255)  # R, G, B, A\n",
    "\n",
    "    # Process each pixel and replace white ones with gray\n",
    "    for x in range(width):\n",
    "        for y in range(height):\n",
    "            pixel_color = img.getpixel((x, y))\n",
    "            if pixel_color[:3] == (255, 255, 255):  # Check if it's a white pixel (R, G, B values)\n",
    "                img.putpixel((x, y), gray_color)\n",
    "\n",
    "    # Save the modified image\n",
    "    try:\n",
    "        img.save(output_path)\n",
    "        print(f\"Image saved to {output_path}\")\n",
    "    except IOError:\n",
    "        print(f\"Error: Could not save the image to {output_path}\")\n",
    "\n",
    "# Example usage:\n",
    "output_image_path = \"output.png\"\n",
    "replace_white_with_gray(watermark_path, black_watermark_path)\n"
   ]
  },
  {
   "cell_type": "code",
   "execution_count": 88,
   "metadata": {},
   "outputs": [
    {
     "name": "stdout",
     "output_type": "stream",
     "text": [
      "Rescaling watermark to width: 75\n",
      "Processing: ./../src/assets/artwork/images/colorful/hills_of_rio_small.jpg\n",
      "- Changing watermark opacity to 0.4\n",
      "- Scaling image with size: (6951, 3798)\n",
      "- Removing alpha channel\n",
      "Processed image saved to './../src/assets/artwork/images_watermarked/colorful/hills_of_rio_small.jpg'\n",
      "--------------------------------------------------\n"
     ]
    }
   ],
   "source": [
    "import os\n",
    "overwrite=True\n",
    "watermark_width=100\n",
    "\n",
    "image_file = \"./../src/assets/artwork/images/colorful/hills_of_rio_small.jpg\"\n",
    "result_path = \"./../src/assets/artwork/images_watermarked/colorful/hills_of_rio_small.jpg\"\n",
    "\n",
    "watermark = Image.open(watermark_path).convert(\"RGBA\")\n",
    "\n",
    "print(f\"Rescaling watermark to width: {watermark_width}\")\n",
    "# Calculate the proportional height for the second image based on the fixed width (250px)\n",
    "width_percent = (watermark_width / float(watermark.size[0]))\n",
    "new_height = int((float(watermark.size[1]) * float(width_percent)))\n",
    "# Resize the second image to the calculated proportional size\n",
    "watermark = watermark.resize(\n",
    "    (watermark_width, new_height), Image.ANTIALIAS)\n",
    "\n",
    "# If the output file already exists, delete it before saving the new image\n",
    "if not overwrite and os.path.exists(result_path):\n",
    "    print(f\"- Not overwriting existing image '{result_path}'\")\n",
    "else:\n",
    "    # Process each image file here\n",
    "    print(\"Processing:\", image_file)\n",
    "    img = Image.open(image_file).convert(\"RGBA\")\n",
    "    result_image = prep.merge_images_with_opacity(\n",
    "        img=img,\n",
    "        watermark=watermark,\n",
    "        padding=padding,\n",
    "        position=\"bottom_right\",\n",
    "        opacity=opacity,\n",
    "        max_width=result_img_max_width)\n",
    "    prep.save_image(img=result_image, result_path=result_path,\n",
    "            suffix=suffix)"
   ]
  },
  {
   "cell_type": "code",
   "execution_count": null,
   "metadata": {},
   "outputs": [],
   "source": []
  }
 ],
 "metadata": {
  "kernelspec": {
   "display_name": "Python 3",
   "language": "python",
   "name": "python3"
  },
  "language_info": {
   "codemirror_mode": {
    "name": "ipython",
    "version": 3
   },
   "file_extension": ".py",
   "mimetype": "text/x-python",
   "name": "python",
   "nbconvert_exporter": "python",
   "pygments_lexer": "ipython3",
   "version": "3.11.8"
  },
  "orig_nbformat": 4
 },
 "nbformat": 4,
 "nbformat_minor": 2
}
